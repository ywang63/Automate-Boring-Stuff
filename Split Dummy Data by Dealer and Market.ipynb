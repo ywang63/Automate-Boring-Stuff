{
 "cells": [
  {
   "cell_type": "code",
   "execution_count": 11,
   "metadata": {},
   "outputs": [],
   "source": [
    "import pandas as pd\n",
    "from xlwings import view"
   ]
  },
  {
   "cell_type": "code",
   "execution_count": 12,
   "metadata": {},
   "outputs": [],
   "source": [
    "dummy_path = 'All_Market_Dummy.xlsx'"
   ]
  },
  {
   "cell_type": "code",
   "execution_count": 13,
   "metadata": {},
   "outputs": [],
   "source": [
    "add_on_path = 'Add_On_Dummy.xlsx'"
   ]
  },
  {
   "cell_type": "code",
   "execution_count": 14,
   "metadata": {},
   "outputs": [
    {
     "data": {
      "text/html": [
       "<div>\n",
       "<style scoped>\n",
       "    .dataframe tbody tr th:only-of-type {\n",
       "        vertical-align: middle;\n",
       "    }\n",
       "\n",
       "    .dataframe tbody tr th {\n",
       "        vertical-align: top;\n",
       "    }\n",
       "\n",
       "    .dataframe thead th {\n",
       "        text-align: right;\n",
       "    }\n",
       "</style>\n",
       "<table border=\"1\" class=\"dataframe\">\n",
       "  <thead>\n",
       "    <tr style=\"text-align: right;\">\n",
       "      <th></th>\n",
       "      <th>Version Status</th>\n",
       "      <th>Effective Start Date</th>\n",
       "      <th>Effective End Date</th>\n",
       "      <th>Partner</th>\n",
       "      <th>Financial Offering: Contract Type</th>\n",
       "      <th>Financial Offering: State</th>\n",
       "      <th>Min</th>\n",
       "      <th>Max</th>\n",
       "      <th>Escalator</th>\n",
       "      <th>Factor</th>\n",
       "    </tr>\n",
       "  </thead>\n",
       "  <tbody>\n",
       "    <tr>\n",
       "      <th>0</th>\n",
       "      <td>Activated</td>\n",
       "      <td>2021-03-11</td>\n",
       "      <td>NaN</td>\n",
       "      <td>NNU</td>\n",
       "      <td>Apple</td>\n",
       "      <td>NN</td>\n",
       "      <td>-50</td>\n",
       "      <td>-25</td>\n",
       "      <td>54</td>\n",
       "      <td>3</td>\n",
       "    </tr>\n",
       "    <tr>\n",
       "      <th>1</th>\n",
       "      <td>Activated</td>\n",
       "      <td>2021-03-11</td>\n",
       "      <td>NaN</td>\n",
       "      <td>LIW</td>\n",
       "      <td>Apple</td>\n",
       "      <td>LI</td>\n",
       "      <td>825</td>\n",
       "      <td>850</td>\n",
       "      <td>63</td>\n",
       "      <td>1</td>\n",
       "    </tr>\n",
       "    <tr>\n",
       "      <th>2</th>\n",
       "      <td>Activated</td>\n",
       "      <td>2021-03-11</td>\n",
       "      <td>NaN</td>\n",
       "      <td>TSQ</td>\n",
       "      <td>Apple</td>\n",
       "      <td>TS</td>\n",
       "      <td>925</td>\n",
       "      <td>950</td>\n",
       "      <td>54</td>\n",
       "      <td>13</td>\n",
       "    </tr>\n",
       "    <tr>\n",
       "      <th>3</th>\n",
       "      <td>Activated</td>\n",
       "      <td>2021-03-11</td>\n",
       "      <td>NaN</td>\n",
       "      <td>WRQ</td>\n",
       "      <td>Apple</td>\n",
       "      <td>TS</td>\n",
       "      <td>800</td>\n",
       "      <td>825</td>\n",
       "      <td>98</td>\n",
       "      <td>2</td>\n",
       "    </tr>\n",
       "    <tr>\n",
       "      <th>4</th>\n",
       "      <td>Activated</td>\n",
       "      <td>2021-03-11</td>\n",
       "      <td>NaN</td>\n",
       "      <td>CNK</td>\n",
       "      <td>Apple</td>\n",
       "      <td>TS</td>\n",
       "      <td>750</td>\n",
       "      <td>775</td>\n",
       "      <td>98</td>\n",
       "      <td>26</td>\n",
       "    </tr>\n",
       "  </tbody>\n",
       "</table>\n",
       "</div>"
      ],
      "text/plain": [
       "  Version Status Effective Start Date  Effective End Date Partner  \\\n",
       "0      Activated           2021-03-11                 NaN     NNU   \n",
       "1      Activated           2021-03-11                 NaN     LIW   \n",
       "2      Activated           2021-03-11                 NaN     TSQ   \n",
       "3      Activated           2021-03-11                 NaN     WRQ   \n",
       "4      Activated           2021-03-11                 NaN     CNK   \n",
       "\n",
       "  Financial Offering: Contract Type Financial Offering: State  Min  Max  \\\n",
       "0                             Apple                        NN  -50  -25   \n",
       "1                             Apple                        LI  825  850   \n",
       "2                             Apple                        TS  925  950   \n",
       "3                             Apple                        TS  800  825   \n",
       "4                             Apple                        TS  750  775   \n",
       "\n",
       "   Escalator  Factor  \n",
       "0         54       3  \n",
       "1         63       1  \n",
       "2         54      13  \n",
       "3         98       2  \n",
       "4         98      26  "
      ]
     },
     "execution_count": 14,
     "metadata": {},
     "output_type": "execute_result"
    }
   ],
   "source": [
    "#read the all-market dummy data file\n",
    "df = pd.read_excel(dummy_path)\n",
    "df.head()"
   ]
  },
  {
   "cell_type": "code",
   "execution_count": 15,
   "metadata": {},
   "outputs": [
    {
     "data": {
      "text/html": [
       "<div>\n",
       "<style scoped>\n",
       "    .dataframe tbody tr th:only-of-type {\n",
       "        vertical-align: middle;\n",
       "    }\n",
       "\n",
       "    .dataframe tbody tr th {\n",
       "        vertical-align: top;\n",
       "    }\n",
       "\n",
       "    .dataframe thead th {\n",
       "        text-align: right;\n",
       "    }\n",
       "</style>\n",
       "<table border=\"1\" class=\"dataframe\">\n",
       "  <thead>\n",
       "    <tr style=\"text-align: right;\">\n",
       "      <th></th>\n",
       "      <th>Partner</th>\n",
       "      <th>State</th>\n",
       "      <th>Contract Type</th>\n",
       "      <th>Amount</th>\n",
       "      <th>Effective Date</th>\n",
       "    </tr>\n",
       "  </thead>\n",
       "  <tbody>\n",
       "    <tr>\n",
       "      <th>0</th>\n",
       "      <td>DVU</td>\n",
       "      <td>TS</td>\n",
       "      <td>Orange</td>\n",
       "      <td>1312</td>\n",
       "      <td>2021-01-21</td>\n",
       "    </tr>\n",
       "    <tr>\n",
       "      <th>1</th>\n",
       "      <td>DVU</td>\n",
       "      <td>TS</td>\n",
       "      <td>Pear</td>\n",
       "      <td>1100</td>\n",
       "      <td>2021-01-21</td>\n",
       "    </tr>\n",
       "    <tr>\n",
       "      <th>2</th>\n",
       "      <td>DVU</td>\n",
       "      <td>TS</td>\n",
       "      <td>Apple</td>\n",
       "      <td>1791</td>\n",
       "      <td>2021-01-21</td>\n",
       "    </tr>\n",
       "    <tr>\n",
       "      <th>3</th>\n",
       "      <td>CNK</td>\n",
       "      <td>TS</td>\n",
       "      <td>Apple</td>\n",
       "      <td>1394</td>\n",
       "      <td>2021-01-21</td>\n",
       "    </tr>\n",
       "    <tr>\n",
       "      <th>4</th>\n",
       "      <td>CNK</td>\n",
       "      <td>TS</td>\n",
       "      <td>Banana</td>\n",
       "      <td>1482</td>\n",
       "      <td>2021-01-21</td>\n",
       "    </tr>\n",
       "  </tbody>\n",
       "</table>\n",
       "</div>"
      ],
      "text/plain": [
       "  Partner State Contract Type  Amount Effective Date\n",
       "0     DVU    TS        Orange    1312     2021-01-21\n",
       "1     DVU    TS          Pear    1100     2021-01-21\n",
       "2     DVU    TS         Apple    1791     2021-01-21\n",
       "3     CNK    TS         Apple    1394     2021-01-21\n",
       "4     CNK    TS        Banana    1482     2021-01-21"
      ]
     },
     "execution_count": 15,
     "metadata": {},
     "output_type": "execute_result"
    }
   ],
   "source": [
    "#read the add-on file\n",
    "df_addon = pd.read_excel(add_on_path)\n",
    "df_addon.head()"
   ]
  },
  {
   "cell_type": "code",
   "execution_count": 16,
   "metadata": {},
   "outputs": [
    {
     "data": {
      "text/plain": [
       "array(['NN', 'LI', 'TS', 'WR', 'CN', 'GG', 'SX', 'WY', 'XS', 'GH', 'GJ',\n",
       "       'ZF', 'DH', 'DV', 'XK', 'SP', 'YF', 'XM', 'HD', 'EI', 'LT', 'FY'],\n",
       "      dtype=object)"
      ]
     },
     "execution_count": 16,
     "metadata": {},
     "output_type": "execute_result"
    }
   ],
   "source": [
    "#all unique states from all market base dummy data\n",
    "split_markets = df['Financial Offering: State'].unique()\n",
    "split_markets"
   ]
  },
  {
   "cell_type": "code",
   "execution_count": 17,
   "metadata": {},
   "outputs": [
    {
     "data": {
      "text/plain": [
       "array(['TS', 'HD', 'YF', 'ZF', 'WR', 'WY', 'GG', 'GH', 'DV', 'SP', 'XM',\n",
       "       'NN', 'XK'], dtype=object)"
      ]
     },
     "execution_count": 17,
     "metadata": {},
     "output_type": "execute_result"
    }
   ],
   "source": [
    "#these are the states that have add-on dummy data\n",
    "split_addon = df_addon['State'].unique()\n",
    "split_addon"
   ]
  },
  {
   "cell_type": "code",
   "execution_count": null,
   "metadata": {},
   "outputs": [],
   "source": [
    "#create an excel file for every market with individual dealers in different tabs\n",
    "#and 2 additional tabs: dummy base for all dealers & add-on dummy for all dealers in that market.\n",
    "for market in split_markets:\n",
    "    df1 = df[df['Financial Offering: State'] == market]\n",
    "    writer = pd.ExcelWriter(str(market)+\" State Matrice by Dealer.xlsx\")\n",
    "    df1.to_excel(writer,market,index=None)\n",
    "    if (market in split_addon):\n",
    "        df2 = df_addon[df_addon['State'] == market]\n",
    "        df2.to_excel(writer,str(market)+'_add_on',index=None)\n",
    "    for group, data in df1.groupby('Partner'):\n",
    "        data.to_excel(writer,group,index = None)\n",
    "    writer.save() "
   ]
  }
 ],
 "metadata": {
  "kernelspec": {
   "display_name": "Python 3",
   "language": "python",
   "name": "python3"
  },
  "language_info": {
   "codemirror_mode": {
    "name": "ipython",
    "version": 3
   },
   "file_extension": ".py",
   "mimetype": "text/x-python",
   "name": "python",
   "nbconvert_exporter": "python",
   "pygments_lexer": "ipython3",
   "version": "3.7.4"
  }
 },
 "nbformat": 4,
 "nbformat_minor": 2
}
